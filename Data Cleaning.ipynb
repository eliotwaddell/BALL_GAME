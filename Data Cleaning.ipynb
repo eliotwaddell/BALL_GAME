{
 "cells": [
  {
   "cell_type": "code",
   "execution_count": 3,
   "metadata": {},
   "outputs": [],
   "source": [
    "import pandas as pd\n",
    "import numpy as np\n",
    "import matplotlib.pyplot as plt\n",
    "\n",
    "%matplotlib inline"
   ]
  },
  {
   "cell_type": "code",
   "execution_count": 37,
   "metadata": {},
   "outputs": [],
   "source": [
    "#import all base player data from past 5 years\n",
    "BALL_2016 = pd.read_csv('raw_data/BALL_2016.csv')\n",
    "BALL_2017 = pd.read_csv('raw_data/BALL_2017.csv')\n",
    "BALL_2018 = pd.read_csv('raw_data/BALL_2018.csv')\n",
    "BALL_2019 = pd.read_csv('raw_data/BALL_2019.csv')\n",
    "BALL_2020 = pd.read_csv('raw_data/BALL_2020.csv')\n",
    "\n",
    "#import advanced player data from past 5 years\n",
    "\n",
    "BALL_2016_ADV = pd.read_csv('raw_data/BALL_2016_ADV.csv')\n",
    "BALL_2017_ADV = pd.read_csv('raw_data/BALL_2017_ADV.csv')\n",
    "BALL_2018_ADV = pd.read_csv('raw_data/BALL_2018_ADV.csv')\n",
    "BALL_2019_ADV = pd.read_csv('raw_data/BALL_2019_ADV.csv')\n",
    "BALL_2020_ADV = pd.read_csv('raw_data/BALL_2020_ADV.csv')"
   ]
  },
  {
   "cell_type": "code",
   "execution_count": 64,
   "metadata": {},
   "outputs": [],
   "source": [
    "#add a 'year' attribute so all player data can be combined\n",
    "\n",
    "BALL_2016['Year'] = 2016\n",
    "BALL_2017['Year'] = 2017\n",
    "BALL_2018['Year'] = 2018\n",
    "BALL_2019['Year'] = 2019\n",
    "BALL_2020['Year'] = 2020\n",
    "\n",
    "#mash all player data into one list, remove rk column and random column that appeared\n",
    "\n",
    "BALL_PLAYERS = pd.concat([BALL_2016, BALL_2017, BALL_2018, BALL_2019, BALL_2020])\n",
    "BALL_PLAYERS = BALL_PLAYERS.drop(BALL_PLAYERS.columns[0], axis=1)\n",
    "BALL_PLAYERS = BALL_PLAYERS.drop(BALL_PLAYERS.columns[30], axis=1)\n",
    "\n",
    "#remove everything that is not the player's name from 'Player' column\n",
    "\n",
    "BALL_PLAYERS['Player'] = BALL_PLAYERS['Player'].str.split('\\\\').str[0]\n",
    "\n",
    "#mash advanced player data into one list remove columns that are already in BALL_PLAYERS\n",
    "\n",
    "BALL_PLAYERS_ADV = pd.concat([BALL_2016_ADV, BALL_2017_ADV, BALL_2018_ADV, BALL_2019_ADV, BALL_2020_ADV])\n",
    "BALL_PLAYERS_ADV = BALL_PLAYERS_ADV.drop(BALL_PLAYERS_ADV.columns[0:7], axis=1)#first 7 repeated columns\n",
    "BALL_PLAYERS_ADV = BALL_PLAYERS_ADV.drop(BALL_PLAYERS_ADV.columns[12], axis=1)#column 12 is from prior formatting\n",
    "BALL_PLAYERS_ADV = BALL_PLAYERS_ADV.drop(BALL_PLAYERS_ADV.columns[16], axis=1)#as is column 16\n",
    "\n",
    "#finally, combine basic player data and advanced player data into one dataframe\n",
    "\n",
    "BALL_PLAYERS = pd.concat([BALL_PLAYERS, BALL_PLAYERS_ADV], axis=1)\n",
    "BALL_PLAYERS.to_csv(\"../BALL_PLAYERS.csv\")"
   ]
  },
  {
   "cell_type": "code",
   "execution_count": 74,
   "metadata": {},
   "outputs": [
    {
     "data": {
      "text/plain": [
       "count    2947.000000\n",
       "mean        0.308009\n",
       "std         0.142310\n",
       "min         0.000000\n",
       "25%         0.267000\n",
       "50%         0.334000\n",
       "75%         0.377000\n",
       "max         1.000000\n",
       "Name: 3P%, dtype: float64"
      ]
     },
     "execution_count": 74,
     "metadata": {},
     "output_type": "execute_result"
    }
   ],
   "source": [
    "BALL_PLAYERS['3P%'].describe()"
   ]
  },
  {
   "cell_type": "code",
   "execution_count": null,
   "metadata": {},
   "outputs": [],
   "source": []
  }
 ],
 "metadata": {
  "kernelspec": {
   "display_name": "Python 3",
   "language": "python",
   "name": "python3"
  },
  "language_info": {
   "codemirror_mode": {
    "name": "ipython",
    "version": 3
   },
   "file_extension": ".py",
   "mimetype": "text/x-python",
   "name": "python",
   "nbconvert_exporter": "python",
   "pygments_lexer": "ipython3",
   "version": "3.8.5"
  }
 },
 "nbformat": 4,
 "nbformat_minor": 4
}
